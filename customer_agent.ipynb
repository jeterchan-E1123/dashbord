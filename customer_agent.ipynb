{
 "cells": [
  {
   "cell_type": "code",
   "execution_count": 2,
   "metadata": {},
   "outputs": [
    {
     "data": {
      "text/plain": [
       "True"
      ]
     },
     "execution_count": 2,
     "metadata": {},
     "output_type": "execute_result"
    }
   ],
   "source": [
    "import boto3\n",
    "import os\n",
    "\n",
    "from dotenv import load_dotenv\n",
    "from langchain_aws import BedrockLLM\n",
    "from langchain.agents import tool\n",
    "from langchain_core.prompts import PromptTemplate\n",
    "\n",
    "load_dotenv()"
   ]
  },
  {
   "cell_type": "code",
   "execution_count": 3,
   "metadata": {},
   "outputs": [],
   "source": [
    "# 1. load LLM\n",
    "bedrock_client = boto3.client(\n",
    "    'bedrock-runtime',\n",
    "    region_name = os.getenv('AWS_DEFAULT_REGION'),\n",
    "    aws_access_key_id = os.getenv('AWS_ACCESS_KEY_ID'),\n",
    "    aws_secret_access_key = os.getenv('AWS_SECRET_ACCESS_KEY')\n",
    ")\n",
    "\n",
    "llm = BedrockLLM(model_id='anthropic.claude-v2:1', model_kwargs={\"temperature\": 0}, client=bedrock_client)\n"
   ]
  },
  {
   "cell_type": "code",
   "execution_count": 4,
   "metadata": {},
   "outputs": [],
   "source": [
    "# 2. define the tools\n",
    "from datetime import datetime\n",
    "\n",
    "@tool\n",
    "def date_calculator(start_date,end_date)->int:\n",
    "    \"\"\"Return the total days between start_date and end_date\"\"\"\n",
    "    start_date_object = datetime.strptime(start_date, '%Y-%m-%d').date()\n",
    "    end_date_object = datetime.strptime(end_date, '%Y-%m-%d').date()\n",
    "    duration = end_date_object - start_date_object\n",
    "\n",
    "    return duration.days\n",
    "\n"
   ]
  },
  {
   "cell_type": "code",
   "execution_count": 5,
   "metadata": {},
   "outputs": [
    {
     "data": {
      "text/plain": [
       "2"
      ]
     },
     "execution_count": 5,
     "metadata": {},
     "output_type": "execute_result"
    }
   ],
   "source": [
    "date_calculator.invoke({\"start_date\":'2024-01-03',\"end_date\":\"2024-01-05\"})"
   ]
  },
  {
   "cell_type": "code",
   "execution_count": 6,
   "metadata": {},
   "outputs": [],
   "source": [
    "from langchain_core.prompts import ChatPromptTemplate, MessagesPlaceholder\n",
    "\n",
    "prompt = ChatPromptTemplate.from_messages(\n",
    "    [\n",
    "        (\n",
    "            \"system\",\n",
    "            \"You are an expert on data analysis. You need to analyze dataframe and answer the question base on the dataframe.\",\n",
    "        ),\n",
    "        (\"user\", \"{input}\"),\n",
    "        MessagesPlaceholder(variable_name=\"agent_scratchpad\"),\n",
    "    ]\n",
    ")"
   ]
  }
 ],
 "metadata": {
  "kernelspec": {
   "display_name": "base",
   "language": "python",
   "name": "python3"
  },
  "language_info": {
   "codemirror_mode": {
    "name": "ipython",
    "version": 3
   },
   "file_extension": ".py",
   "mimetype": "text/x-python",
   "name": "python",
   "nbconvert_exporter": "python",
   "pygments_lexer": "ipython3",
   "version": "3.12.2"
  }
 },
 "nbformat": 4,
 "nbformat_minor": 2
}
